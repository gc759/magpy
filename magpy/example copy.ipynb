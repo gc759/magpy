{
 "cells": [
  {
   "cell_type": "markdown",
   "metadata": {},
   "source": [
    "## How to use MagPy:\n",
    "\n",
    "MagPy can simulate quantum systems evolving under the Liouville-von Neumann equation,\n",
    "$$\\frac{\\partial\\rho(t)}{\\partial t} = -i\\big[H(t),\\,\\rho(t)\\big],$$\n",
    "given a Hamiltonian $H$ and an initial condition $\\rho_0$.\n",
    "\n",
    "A constant Hamiltonian is represented by an HOp object, which can be passed information to construct the Hamiltonian in two ways:\n",
    "\n",
    "1. Pass a square NumPy array directly:"
   ]
  },
  {
   "cell_type": "code",
   "execution_count": 2,
   "metadata": {},
   "outputs": [],
   "source": [
    "import magpy as mp\n",
    "import numpy as np\n",
    "\n",
    "import scipy as scipy\n",
    "from HOp import HOp\n",
    "from methods import *\n",
    "from QSystem import QSystem\n",
    "\n",
    "# H = HOp(np.array([[1,1],[1,1]]))\n",
    "# H1 = HOp(2, 1, sigmax())\n",
    "# H2 = HOp(2, (1, sigmay()), (2, sigmax()))\n",
    "# Hcm = HOp(2,precession_Z=np.array([2,9]),coupling_matrix_XX=np.array([[3,2],[5,7]]),coupling_matrix_YY=np.array([[3,2],[5,7]]),coupling_matrix_ZZ=np.array([[3,2],[5,7]]))\n",
    "Hcm = HOp(3,coupling_matrix_XX=np.array([[3,2,6],[5,7,8],[9,4,1]]),coupling_matrix_YY=np.array([[3,2,6],[5,7,8],[9,4,1]]),coupling_matrix_ZZ=np.array([[3,2,6],[5,7,8],[9,4,1]]))\n",
    "# Hcm = HOp(2,coupling_matrix_YY=np.array([[3,2],[5,7]]))\n",
    "# Hcm = HOp(2,precession_Z=np.array([1,1]))"
   ]
  },
  {
   "cell_type": "code",
   "execution_count": 11,
   "metadata": {},
   "outputs": [],
   "source": [
    "def sumZkZkplus1(n): \n",
    "    Hn1 = np.zeros(2**n)\n",
    "    if n == 1:\n",
    "        Hn1 = Hn1\n",
    "    else:\n",
    "        operatorcount1 = 1\n",
    "        while operatorcount1<n:\n",
    "            i = operatorcount1\n",
    "            operators = kron(sigmaz(),sigmaz())\n",
    "\n",
    "            rightI = n-i\n",
    "            leftI = i\n",
    "            rightcount = 0\n",
    "            leftcount = 0\n",
    "\n",
    "            while rightI < n-1:\n",
    "                operators = kron(eye(2),operators)\n",
    "                rightI = rightI+1\n",
    "                rightcount = rightcount+1\n",
    "\n",
    "            while leftI < n-1:\n",
    "                operators = kron(operators,eye(2))\n",
    "                leftI = leftI+1\n",
    "                leftcount = leftcount +1\n",
    "\n",
    "            Hn1 = operators+Hn1\n",
    "            operatorcount1 = operatorcount1+1\n",
    "    return Hn1\n",
    "\n",
    "\n",
    "# sumXk, sumYk, sumZk\n",
    "\n",
    "def sumXk(n):\n",
    "    Hn2 = np.zeros(2**n)\n",
    "    operatorcount2 = 1\n",
    "    while operatorcount2<=n:\n",
    "        i = operatorcount2\n",
    "        operators = sigmax()\n",
    "\n",
    "        rightI = n-i+1\n",
    "        leftI = i\n",
    "        rightcount = 0\n",
    "        leftcount = 0\n",
    "\n",
    "        while rightI < n:\n",
    "            operators = kron(eye(2),operators)\n",
    "            rightI = rightI+1\n",
    "            rightcount = rightcount+1\n",
    "\n",
    "        while leftI < n:\n",
    "            operators = kron(operators,eye(2))\n",
    "            leftI = leftI+1\n",
    "            leftcount = leftcount +1\n",
    "\n",
    "        Hn2 = operators+Hn2\n",
    "        operatorcount2 = operatorcount2+1\n",
    "    return Hn2\n",
    "\n",
    "\n",
    "\n",
    "def sumYk(n):\n",
    "    Hn3 = np.zeros(2**n)\n",
    "    operatorcount3 = 1\n",
    "    while operatorcount3<=n:\n",
    "        i = operatorcount3\n",
    "        operators = sigmay()\n",
    "\n",
    "        rightI = n-i+1\n",
    "        leftI = i\n",
    "        rightcount = 0\n",
    "        leftcount = 0\n",
    "\n",
    "        while rightI < n:\n",
    "            operators = kron(eye(2),operators)\n",
    "            rightI = rightI+1\n",
    "            rightcount = rightcount+1\n",
    "\n",
    "        while leftI < n:\n",
    "            operators = kron(operators,eye(2))\n",
    "            leftI = leftI+1\n",
    "            leftcount = leftcount +1\n",
    "\n",
    "        Hn3 = operators+Hn3\n",
    "        operatorcount3 = operatorcount3+1\n",
    "    return Hn3\n",
    "\n",
    "\n",
    "def sumZk(n):\n",
    "    Hn3 = np.zeros(2**n)\n",
    "    operatorcount3 = 1\n",
    "    while operatorcount3<=n:\n",
    "        i = operatorcount3\n",
    "        operators = sigmaz()\n",
    "\n",
    "        rightI = n-i+1\n",
    "        leftI = i\n",
    "        rightcount = 0\n",
    "        leftcount = 0\n",
    "\n",
    "        while rightI < n:\n",
    "            operators = kron(eye(2),operators)\n",
    "            rightI = rightI+1\n",
    "            rightcount = rightcount+1\n",
    "\n",
    "        while leftI < n:\n",
    "            operators = kron(operators,eye(2))\n",
    "            leftI = leftI+1\n",
    "            leftcount = leftcount +1\n",
    "\n",
    "        Hn3 = operators+Hn3\n",
    "        operatorcount3 = operatorcount3+1\n",
    "    return Hn3\n",
    "\n",
    "#sumOmegakXk\n",
    "def sumOmegakXk(n,Omega):\n",
    "    Hn3 = np.zeros(2**n)\n",
    "    operatorcount3 = 1\n",
    "    while operatorcount3<=n:\n",
    "        i = operatorcount3\n",
    "        operators = Omega[n-i]*X\n",
    "\n",
    "        rightI = n-i+1\n",
    "        leftI = i\n",
    "        rightcount = 0\n",
    "        leftcount = 0\n",
    "\n",
    "        while rightI < n:\n",
    "            operators = kron(eye(2),operators)\n",
    "            rightI = rightI+1\n",
    "            rightcount = rightcount+1\n",
    "\n",
    "        while leftI < n:\n",
    "            operators = kron(operators,eye(2))\n",
    "            leftI = leftI+1\n",
    "            leftcount = leftcount +1\n",
    "\n",
    "        Hn3 = operators+Hn3\n",
    "        operatorcount3 = operatorcount3+1\n",
    "    return Hn3\n",
    "\n",
    "#sumOmegakYk\n",
    "def sumOmegakYk(n,Omega):\n",
    "    Hn3 = np.zeros(2**n)\n",
    "    operatorcount3 = 1\n",
    "    while operatorcount3<=n:\n",
    "        i = operatorcount3\n",
    "        operators = Omega[n-i]*Y\n",
    "\n",
    "        rightI = n-i+1\n",
    "        leftI = i\n",
    "        rightcount = 0\n",
    "        leftcount = 0\n",
    "\n",
    "        while rightI < n:\n",
    "            operators = kron(eye(2),operators)\n",
    "            rightI = rightI+1\n",
    "            rightcount = rightcount+1\n",
    "\n",
    "        while leftI < n:\n",
    "            operators = kron(operators,eye(2))\n",
    "            leftI = leftI+1\n",
    "            leftcount = leftcount +1\n",
    "\n",
    "        Hn3 = operators+Hn3\n",
    "        operatorcount3 = operatorcount3+1\n",
    "    return Hn3\n",
    "\n",
    "    \n",
    "#sumOmegakZk\n",
    "def sumOmegakZk(n,Omega):\n",
    "    Hn3 = np.zeros(2**n)\n",
    "    operatorcount3 = 1\n",
    "    while operatorcount3<=n:\n",
    "        i = operatorcount3\n",
    "        operators = Omega[n-i]*sigmaz()\n",
    "\n",
    "        rightI = n-i+1\n",
    "        leftI = i\n",
    "        rightcount = 0\n",
    "        leftcount = 0\n",
    "\n",
    "        while rightI < n:\n",
    "            operators = kron(eye(2),operators)\n",
    "            rightI = rightI+1\n",
    "            rightcount = rightcount+1\n",
    "\n",
    "        while leftI < n:\n",
    "            operators = kron(operators,eye(2))\n",
    "            leftI = leftI+1\n",
    "            leftcount = leftcount +1\n",
    "\n",
    "        Hn3 = operators+Hn3\n",
    "        operatorcount3 = operatorcount3+1\n",
    "    return Hn3\n",
    "\n",
    "\n",
    "# sumJjkXjXk, sumJjkYjYk, sumJjkZjZk\n",
    "\n",
    "def sumJjkXjXk(n,J):\n",
    "    H = np.zeros(2**n)\n",
    "    j = 1\n",
    "\n",
    "    while j<n:\n",
    "        m = 1\n",
    "        op = sigmax()\n",
    "\n",
    "        op1 = op\n",
    "        while m<j:\n",
    "            op1 = kron(op1,eye(2))\n",
    "            m = m+1\n",
    "    \n",
    "        k = j + 1\n",
    "        while k<n+1:\n",
    "            op2 = op1\n",
    "            i = m+1\n",
    "            while i<k:\n",
    "                op2 = kron(eye(2),op2)\n",
    "                i = i+1\n",
    "\n",
    "            op3 = kron(sigmax(),op2)\n",
    "            op4 = op3\n",
    "            i = i+1\n",
    "\n",
    "            while i<n+1:\n",
    "                op4 = kron(eye(2),op4)\n",
    "                i = i+1\n",
    "\n",
    "            H = H + op4 * J[j-1,k-1]\n",
    "            k = k+1\n",
    "        \n",
    "        j = j+1\n",
    "\n",
    "    return H\n",
    "\n",
    "\n",
    "def sumJjkYjYk(n,J):\n",
    "    H = np.zeros(2**n)\n",
    "    j = 1\n",
    "\n",
    "    while j<n:\n",
    "        m = 1\n",
    "        op = sigmay()\n",
    "\n",
    "        op1 = op\n",
    "        while m<j:\n",
    "            op1 = kron(op1,eye(2))\n",
    "            m = m+1\n",
    "    \n",
    "        k = j + 1\n",
    "        while k<n+1:\n",
    "            op2 = op1\n",
    "            i = m+1\n",
    "            while i<k:\n",
    "                op2 = kron(eye(2),op2)\n",
    "                i = i+1\n",
    "\n",
    "            op3 = kron(sigmay(),op2)\n",
    "            op4 = op3\n",
    "            i = i+1\n",
    "\n",
    "            while i<n+1:\n",
    "                op4 = kron(eye(2),op4)\n",
    "                i = i+1\n",
    "\n",
    "            H = H + op4 * J[j-1,k-1]\n",
    "            k = k+1\n",
    "        \n",
    "        j = j+1\n",
    "\n",
    "    return H\n",
    "\n",
    "\n",
    "\n",
    "def sumJjkZjZk(n,J):\n",
    "    H = np.zeros(2**n)\n",
    "    j = 1\n",
    "\n",
    "    while j<n:\n",
    "        m = 1\n",
    "        op = sigmaz()\n",
    "\n",
    "        op1 = op\n",
    "        while m<j:\n",
    "            op1 = kron(op1,eye(2))\n",
    "            m = m+1\n",
    "    \n",
    "        k = j + 1\n",
    "        while k<n+1:\n",
    "            op2 = op1\n",
    "            i = m+1\n",
    "            while i<k:\n",
    "                op2 = kron(eye(2),op2)\n",
    "                i = i+1\n",
    "\n",
    "            op3 = kron(sigmaz(),op2)\n",
    "            op4 = op3\n",
    "            i = i+1\n",
    "\n",
    "            while i<n+1:\n",
    "                op4 = kron(eye(2),op4)\n",
    "                i = i+1\n",
    "\n",
    "            H = H + op4 * J[j-1,k-1]\n",
    "            k = k+1\n",
    "        \n",
    "        j = j+1\n",
    "\n",
    "    return H\n",
    "\n",
    "\n",
    "#%% Now define Hamiltonians\n",
    "\n",
    "def IsingH(n,J,g,h):\n",
    "\n",
    "    Hn1 = sumZkZkplus1(n)\n",
    "    Hn1 = J*Hn1\n",
    "    Hn2 = sumXk(n)\n",
    "    Hn2 = g*Hn2\n",
    "    Hn3 = sumZk(n)\n",
    "    Hn3 = h*Hn3\n",
    "\n",
    "    Hn = Hn1+Hn2+Hn3\n",
    "\n",
    "    return Hn\n",
    "\n",
    "\n",
    "def NMRH(n,Omega,J,f,g):\n",
    "\n",
    "    HCS = sumOmegakZk(n,Omega)\n",
    "    \n",
    "    HJX = sumJjkXjXk(n,J)\n",
    "    HJY = sumJjkYjYk(n,J)\n",
    "    HJZ = sumJjkZjZk(n,J)\n",
    "    HJ = HJX + HJY + HJZ  \n",
    "    \n",
    "    HPX = f * sumXk(n)\n",
    "    HPY = g * sumYk(n)\n",
    "    HP = HPX + HPY\n",
    "\n",
    "    H = HCS + HJ + HP\n",
    "\n",
    "    return H\n",
    "\n",
    "# time dependent NMR\n",
    "def NMRHdep(n,Omega,J,f_function,g_function,t):\n",
    "\n",
    "    HCS = sumOmegakZk(n,Omega)\n",
    "    \n",
    "    HJX = sumJjkXjXk(n,J)\n",
    "    HJY = sumJjkYjYk(n,J)\n",
    "    HJZ = sumJjkZjZk(n,J)\n",
    "    HJ = HJX + HJY + HJZ  \n",
    "    \n",
    "    HPX = f_function(t) * sumXk(n)\n",
    "    HPY = g_function(t) * sumYk(n)\n",
    "    HP = HPX + HPY\n",
    "\n",
    "    H = HCS + HJ + HP\n",
    "\n",
    "    return H\n",
    "\n",
    "NMRH(3,np.array([0,0,0]),np.array([[3,2,6],[5,7,8],[9,4,1]]),0,0)"
   ]
  },
  {
   "cell_type": "markdown",
   "metadata": {},
   "source": [
    "2. Specify a number of spins, along with a 2x2 array corresponding to each spin. Any spin not accounted for will be assigned the identity matrix:\n",
    "\n",
    "$\\;\\;\\;\\;\\;\\;\\;\\;H_1 = \\sigma_x \\otimes Id,\\;\\;\\;\\;H_2 = \\sigma_y \\otimes \\sigma_x.$"
   ]
  },
  {
   "cell_type": "code",
   "execution_count": 66,
   "metadata": {},
   "outputs": [],
   "source": [
    "H1 = HOp(2, 1, sigmax())\n",
    "H2 = HOp(2, (1, sigmay()), (2, sigmax()))\n",
    "H3 = HOp(2, (1, sigmay()), (2, sigmax()))"
   ]
  },
  {
   "cell_type": "code",
   "execution_count": 67,
   "metadata": {},
   "outputs": [
    {
     "data": {
      "text/plain": [
       "False"
      ]
     },
     "execution_count": 67,
     "metadata": {},
     "output_type": "execute_result"
    }
   ],
   "source": [
    "H2 == H3"
   ]
  },
  {
   "cell_type": "markdown",
   "metadata": {},
   "source": [
    "3. Specify a precession vector and a coupling matrix corresponding to the spins.\n",
    "\n",
    "$\\;\\;\\;\\;\\;\\;\\;\\;H_{CS} = \\sum_{k=1}^N \\Omega_k Z_k $\n",
    "\n",
    "$\\;\\;\\;\\;\\;\\;\\;\\;\\;\\;\\;\\;\\;\\;\\;\\;= \\Omega_1 \\cdot \\sigma_z \\otimes Id \\otimes \\cdots \\otimes Id \\; \\; + \\;\\;  \\Omega_2 \\cdot Id \\otimes \\sigma_z \\otimes Id \\otimes \\cdots \\otimes Id \\; \\; + \\;\\;  \\cdots  \\; \\; + \\;\\;  \\Omega_N \\cdot  Id \\otimes \\cdots \\otimes Id \\otimes \\sigma_z$\n",
    "\n",
    "$\\;\\;\\;\\;\\;\\;\\;\\;H_{J} = \\sum_{j=1}^N \\sum_{k=j+1}^N J_{jk} (X_jX_k + Y_jY_k + Z_jZ_k)$\n",
    "\n",
    "$\\;\\;\\;\\;\\;\\;\\;\\;\\;\\;\\;\\;\\;\\; = \\sum_{j=1}^N \\sum_{k=j+1}^N J_{jk} \\cdot Id \\otimes \\underbrace{\\sigma_x}_{j\\text{th\\; spin}} \\otimes Id \\otimes \\cdots \\otimes Id \\otimes \\underbrace{\\sigma_x}_{k\\text{th\\; spin}} \\otimes Id$\n",
    "\n",
    "$\\;\\;\\;\\;\\;\\;\\;\\;\\;\\;\\;\\;\\;\\; + \\sum_{j=1}^N \\sum_{k=j+1}^N J_{jk} \\cdot Id \\otimes \\underbrace{\\sigma_y}_{j\\text{th\\; spin}} \\otimes Id \\otimes \\cdots \\otimes Id \\otimes \\underbrace{\\sigma_y}_{k\\text{th\\; spin}} \\otimes Id$\n",
    "\n",
    "$\\;\\;\\;\\;\\;\\;\\;\\;\\;\\;\\;\\;\\;\\; + \\sum_{j=1}^N \\sum_{k=j+1}^N J_{jk} \\cdot Id \\otimes \\underbrace{\\sigma_z}_{j\\text{th\\; spin}} \\otimes Id \\otimes \\cdots \\otimes Id \\otimes \\underbrace{\\sigma_z}_{k\\text{th\\; spin}} \\otimes Id$\n"
   ]
  },
  {
   "cell_type": "code",
   "execution_count": 3,
   "metadata": {},
   "outputs": [],
   "source": [
    "H = HOp(2,precession_Z=np.array([2,9]),coupling_matrix_XX=np.array([[3,2],[5,7]]),coupling_matrix_YY=np.array([[3,2],[5,7]]),coupling_matrix_ZZ=np.array([[3,2],[5,7]]))"
   ]
  },
  {
   "cell_type": "markdown",
   "metadata": {},
   "source": [
    "For the Hamiltonian $H(t) = \\sum_{k=1}^N f_k(t) X_k $, the user is asked to specify each f_k(t), then the Hamitonian would be given by\n"
   ]
  },
  {
   "cell_type": "code",
   "execution_count": null,
   "metadata": {},
   "outputs": [],
   "source": [
    "def f(t): return t\n",
    "def g(t): return t**2\n",
    "\n",
    "H = {f : [H1, HOp(2, 2, sigmay())], g : H2}"
   ]
  },
  {
   "cell_type": "markdown",
   "metadata": {},
   "source": [
    "The full, time-dependent Hamiltonian is then specified as a dictionary of functional coefficients paired with an HOp object. If a function corresponds to multiple Hamiltonians, it is paired with a list of HOp objects.\n",
    "\n",
    "For the Hamiltonian $H(t) = t(\\sigma_x\\otimes Id) + t(Id\\otimes\\sigma_y) + t^2(\\,\\sigma_y\\otimes\\sigma_x)$:"
   ]
  },
  {
   "cell_type": "code",
   "execution_count": null,
   "metadata": {},
   "outputs": [],
   "source": [
    "def something(*args, **kwargs):\n",
    "        \"\"\"\n",
    "        Construct matrix representing the quantum operator.\n",
    "        \"\"\"\n",
    "\n",
    "        if not args:\n",
    "            raise TypeError(\"input cannot be empty\")\n",
    "\n",
    "        if 'coupling_matrix' in kwargs:\n",
    "            print('coupling_matrix')\n",
    "\n",
    "        else:\n",
    "            return args\n",
    "\n",
    "something(1,coupling_matrix = 1)\n"
   ]
  },
  {
   "cell_type": "code",
   "execution_count": 2,
   "metadata": {},
   "outputs": [
    {
     "ename": "IndexError",
     "evalue": "tuple index out of range",
     "output_type": "error",
     "traceback": [
      "\u001b[0;31m---------------------------------------------------------------------------\u001b[0m",
      "\u001b[0;31mIndexError\u001b[0m                                Traceback (most recent call last)",
      "\u001b[1;32m/Users/guannan/Desktop/SAMBa_Year2/magpy/magpy/example copy.ipynb Cell 9\u001b[0m in \u001b[0;36m<cell line: 1>\u001b[0;34m()\u001b[0m\n\u001b[0;32m----> <a href='vscode-notebook-cell:/Users/guannan/Desktop/SAMBa_Year2/magpy/magpy/example%20copy.ipynb#W6sZmlsZQ%3D%3D?line=0'>1</a>\u001b[0m Hcm \u001b[39m=\u001b[39m HOp(\u001b[39m1\u001b[39;49m,coupling_matrix\u001b[39m=\u001b[39;49m\u001b[39m1\u001b[39;49m)\n",
      "File \u001b[0;32m~/Desktop/SAMBa_Year2/magpy/magpy/HOp.py:59\u001b[0m, in \u001b[0;36mHOp.__init__\u001b[0;34m(self, *args, **kwargs)\u001b[0m\n\u001b[1;32m     54\u001b[0m \u001b[39melif\u001b[39;00m \u001b[39mlen\u001b[39m(args) \u001b[39m==\u001b[39m \u001b[39m1\u001b[39m \u001b[39mand\u001b[39;00m is_square(args[\u001b[39m0\u001b[39m]) \u001b[39mand\u001b[39;00m \u001b[39mnot\u001b[39;00m kwargs:\n\u001b[1;32m     55\u001b[0m     \u001b[39m# single ndarray\u001b[39;00m\n\u001b[1;32m     57\u001b[0m     \u001b[39mself\u001b[39m\u001b[39m.\u001b[39mdata \u001b[39m=\u001b[39m args[\u001b[39m0\u001b[39m]\n\u001b[0;32m---> 59\u001b[0m \u001b[39melif\u001b[39;00m \u001b[39misinstance\u001b[39m(args[\u001b[39m1\u001b[39;49m], \u001b[39mtuple\u001b[39m):\n\u001b[1;32m     60\u001b[0m     \u001b[39m# list of tuples (with pos and ndarray)\u001b[39;00m\n\u001b[1;32m     62\u001b[0m     matrices \u001b[39m=\u001b[39m args[\u001b[39m0\u001b[39m] \u001b[39m*\u001b[39m [eye(\u001b[39m2\u001b[39m)]\n\u001b[1;32m     64\u001b[0m     \u001b[39mfor\u001b[39;00m spin \u001b[39min\u001b[39;00m args[\u001b[39m1\u001b[39m:]:\n",
      "\u001b[0;31mIndexError\u001b[0m: tuple index out of range"
     ]
    }
   ],
   "source": [
    "Hcm = HOp(1,coupling_matrix=1)"
   ]
  },
  {
   "cell_type": "code",
   "execution_count": 3,
   "metadata": {},
   "outputs": [
    {
     "data": {
      "text/plain": [
       "{<function __main__.f(t)>: [<HOp.HOp at 0x7f879de44c10>,\n",
       "  <HOp.HOp at 0x7f879de454b0>],\n",
       " <function __main__.g(t)>: <HOp.HOp at 0x7f879de45660>}"
      ]
     },
     "execution_count": 3,
     "metadata": {},
     "output_type": "execute_result"
    }
   ],
   "source": [
    "# problem here as well? Should allow something better than manually input.\n",
    "def f(t): return t\n",
    "def g(t): return t**2\n",
    "\n",
    "H = {f : [H1, HOp(2, 2, sigmay())], g : H2}\n",
    "def XXcoupling(n,J):\n",
    "    H = {}\n",
    "    j = 1\n",
    "    while j<n:\n",
    "        k = j+1\n",
    "        while k<n+1:\n",
    "            # HXXjk = {J[j-1,k-1]:HOp(n, (j, sigmax()), (k, sigmax()))}\n",
    "            # index = ((n-1)+(n-j+1))*(j-1)/2 + k - j - 1\n",
    "            # H.append(HXXjk)\n",
    "            H[J[j-1,k-1]]=HOp(n, (j, sigmax()), (k, sigmax()))\n",
    "            k = k+1\n",
    "        j = j+1\n",
    "    \n",
    "    return H\n",
    "\n",
    "H"
   ]
  },
  {
   "cell_type": "code",
   "execution_count": 99,
   "metadata": {},
   "outputs": [
    {
     "data": {
      "text/plain": [
       "list"
      ]
     },
     "execution_count": 99,
     "metadata": {},
     "output_type": "execute_result"
    }
   ],
   "source": [
    "type([H1, HOp(2, 2, sigmay())])"
   ]
  },
  {
   "cell_type": "code",
   "execution_count": 134,
   "metadata": {},
   "outputs": [
    {
     "data": {
      "text/plain": [
       "{2: <HOp.HOp at 0x7f8769815000>}"
      ]
     },
     "execution_count": 134,
     "metadata": {},
     "output_type": "execute_result"
    }
   ],
   "source": [
    "J = np.array([[1,2],[4,5],[7,8],[1,2]])\n",
    "Omega = np.array([1,2,3,4])\n",
    "H = {f : [H1, HOp(2, 2, sigmay()),H2], g : H2}\n",
    "\n",
    "# XX coupling\n",
    "# J[j-1,k-1]\n",
    "\n",
    "#sumJjkXjXk\n",
    "def XXcoupling(n,J):\n",
    "    H = {}\n",
    "    j = 1\n",
    "    while j<n:\n",
    "        k = j+1\n",
    "        while k<n+1:\n",
    "            # HXXjk = {J[j-1,k-1]:HOp(n, (j, sigmax()), (k, sigmax()))}\n",
    "            # index = ((n-1)+(n-j+1))*(j-1)/2 + k - j - 1\n",
    "            # H.append(HXXjk)\n",
    "            H[J[j-1,k-1]]=HOp(n, (j, sigmax()), (k, sigmax()))\n",
    "            k = k+1\n",
    "        j = j+1\n",
    "    \n",
    "    return H\n",
    "\n",
    "def sumOmegakZk(n,Omega):\n",
    "    H = []\n",
    "    for i in range(n):\n",
    "        H.append=HOp(n,i+1, Omega[i]*sigmaz())\n",
    "    \n",
    "    return H\n",
    "\n",
    "H = sigmax()Xcoupling(2,J)\n",
    "H\n",
    "# type(H)"
   ]
  },
  {
   "cell_type": "code",
   "execution_count": 2,
   "metadata": {},
   "outputs": [
    {
     "ename": "NameError",
     "evalue": "name 'f' is not defined",
     "output_type": "error",
     "traceback": [
      "\u001b[0;31m---------------------------------------------------------------------------\u001b[0m",
      "\u001b[0;31mNameError\u001b[0m                                 Traceback (most recent call last)",
      "\u001b[1;32m/Users/guannan/Desktop/SAMBa_Year2/magpy/magpy/example copy.ipynb Cell 13\u001b[0m in \u001b[0;36m<cell line: 2>\u001b[0;34m()\u001b[0m\n\u001b[1;32m      <a href='vscode-notebook-cell:/Users/guannan/Desktop/SAMBa_Year2/magpy/magpy/example%20copy.ipynb#X32sZmlsZQ%3D%3D?line=0'>1</a>\u001b[0m J \u001b[39m=\u001b[39m np\u001b[39m.\u001b[39marray([[\u001b[39m1\u001b[39m,\u001b[39m2\u001b[39m,\u001b[39m3\u001b[39m,\u001b[39m4\u001b[39m],[\u001b[39m4\u001b[39m,\u001b[39m5\u001b[39m,\u001b[39m3\u001b[39m,\u001b[39m4\u001b[39m],[\u001b[39m7\u001b[39m,\u001b[39m8\u001b[39m,\u001b[39m4\u001b[39m,\u001b[39m4\u001b[39m],[\u001b[39m1\u001b[39m,\u001b[39m2\u001b[39m,\u001b[39m2\u001b[39m,\u001b[39m5\u001b[39m]])\n\u001b[0;32m----> <a href='vscode-notebook-cell:/Users/guannan/Desktop/SAMBa_Year2/magpy/magpy/example%20copy.ipynb#X32sZmlsZQ%3D%3D?line=1'>2</a>\u001b[0m H \u001b[39m=\u001b[39m {f : [H1, HOp(\u001b[39m2\u001b[39m, \u001b[39m2\u001b[39m, sigmay()),H2], g : H2}\n\u001b[1;32m      <a href='vscode-notebook-cell:/Users/guannan/Desktop/SAMBa_Year2/magpy/magpy/example%20copy.ipynb#X32sZmlsZQ%3D%3D?line=3'>4</a>\u001b[0m \u001b[39m# XX coupling\u001b[39;00m\n\u001b[1;32m      <a href='vscode-notebook-cell:/Users/guannan/Desktop/SAMBa_Year2/magpy/magpy/example%20copy.ipynb#X32sZmlsZQ%3D%3D?line=4'>5</a>\u001b[0m \u001b[39m# J[j-1,k-1]\u001b[39;00m\n\u001b[1;32m      <a href='vscode-notebook-cell:/Users/guannan/Desktop/SAMBa_Year2/magpy/magpy/example%20copy.ipynb#X32sZmlsZQ%3D%3D?line=5'>6</a>\u001b[0m \n\u001b[1;32m      <a href='vscode-notebook-cell:/Users/guannan/Desktop/SAMBa_Year2/magpy/magpy/example%20copy.ipynb#X32sZmlsZQ%3D%3D?line=6'>7</a>\u001b[0m \u001b[39m#sumJjkXjXk\u001b[39;00m\n\u001b[1;32m      <a href='vscode-notebook-cell:/Users/guannan/Desktop/SAMBa_Year2/magpy/magpy/example%20copy.ipynb#X32sZmlsZQ%3D%3D?line=7'>8</a>\u001b[0m \u001b[39mdef\u001b[39;00m \u001b[39mXXcoupling\u001b[39m(n,J):\n",
      "\u001b[0;31mNameError\u001b[0m: name 'f' is not defined"
     ]
    }
   ],
   "source": [
    "J = np.array([[1,2,3,4],[4,5,3,4],[7,8,4,4],[1,2,2,5]])\n",
    "H = {f : [H1, HOp(2, 2, sigmay()),H2], g : H2}\n",
    "\n",
    "# XX coupling\n",
    "# J[j-1,k-1]\n",
    "\n",
    "#sumJjkXjXk\n",
    "def XXcoupling(n,J):\n",
    "    H = []\n",
    "    j = 1\n",
    "    while j<n:\n",
    "        k = j+1\n",
    "        while k<n+1:\n",
    "            # HXXjk = {J[j-1,k-1]:HOp(n, (j, sigmax()), (k, sigmax()))}\n",
    "            # index = ((n-1)+(n-j+1))*(j-1)/2 + k - j - 1\n",
    "            # H.append(HXXjk)\n",
    "            # H[J[j-1,k-1]]=HOp(n, (j, sigmax()), (k, sigmax()))\n",
    "            H.append(HOp(n, (j, J[j-1,k-1]*sigmax()), (k, sigmax())))\n",
    "            k = k+1\n",
    "        j = j+1\n",
    "    \n",
    "    return H\n",
    "\n",
    "# example\n",
    "H = sigmax()Xcoupling(3,J)\n",
    "H\n",
    "# type(H)"
   ]
  },
  {
   "cell_type": "code",
   "execution_count": 113,
   "metadata": {},
   "outputs": [],
   "source": [
    "def XXYYZZcoupling(n,J):\n",
    "    H = []\n",
    "    j = 1\n",
    "    while j<n:\n",
    "        k = j+1\n",
    "        while k<n+1:\n",
    "            # may need some handle to switch on/off each XX, YY, ZZ\n",
    "            H.append(HOp(n, (j, J[j-1,k-1]*sigmax()), (k, sigmax())))\n",
    "            H.append(HOp(n, (j, J[j-1,k-1]*sigmay()), (k, sigmay())))\n",
    "            H.append(HOp(n, (j, J[j-1,k-1]*sigmaz()), (k, sigmaz())))\n",
    "            k = k+1\n",
    "        j = j+1\n",
    "    \n",
    "    return H"
   ]
  },
  {
   "cell_type": "code",
   "execution_count": 126,
   "metadata": {},
   "outputs": [],
   "source": [
    "# use this\n",
    "# better code\n",
    "def XXYYZZcoupling(n,coupling_matrix):\n",
    "    H = []\n",
    "    for j in range(n-1):\n",
    "        k = j+1\n",
    "        for k in range(j+1,n):\n",
    "            # may need some handle to switch on/off each XX, YY, ZZ\n",
    "            H.append(HOp(n, (j+1, coupling_matrix[j,k]*sigmax()), (k+1, sigmax())))\n",
    "            H.append(HOp(n, (j+1, coupling_matrix[j,k]*sigmay()), (k+1, sigmay())))\n",
    "            H.append(HOp(n, (j+1, coupling_matrix[j,k]*sigmaz()), (k+1, sigmaz())))\n",
    "    \n",
    "    def identity(t): return 1\n",
    "    H = {identity: H}\n",
    "\n",
    "    return H"
   ]
  },
  {
   "cell_type": "code",
   "execution_count": 138,
   "metadata": {},
   "outputs": [],
   "source": [
    "def sumOmegakZk(n,Omega):\n",
    "    H = []\n",
    "    for i in range(n):\n",
    "        H.append(HOp(n,i+1, Omega[i]*sigmaz()))\n",
    "    def identity(t): return 1\n",
    "    H = {identity: H}\n",
    "    return H"
   ]
  },
  {
   "cell_type": "code",
   "execution_count": 145,
   "metadata": {},
   "outputs": [],
   "source": [
    "H = {**XXYYZZcoupling(2,J),**sumOmegakZk(2,Omega)}"
   ]
  },
  {
   "cell_type": "code",
   "execution_count": 121,
   "metadata": {},
   "outputs": [
    {
     "data": {
      "text/plain": [
       "[<HOp.HOp at 0x7f8769845de0>,\n",
       " <HOp.HOp at 0x7f8769846dd0>,\n",
       " <HOp.HOp at 0x7f8769846e00>]"
      ]
     },
     "execution_count": 121,
     "metadata": {},
     "output_type": "execute_result"
    }
   ],
   "source": [
    "H = sigmax()XYYZZcoupling(2,J)\n",
    "H"
   ]
  },
  {
   "cell_type": "markdown",
   "metadata": {},
   "source": [
    "Passing this Hamiltonian to the System class creates an object representing a quantum system with that specific Hamiltonian. This object will perform the necessary pre-calculations and store the results to speed up simulation multiple times."
   ]
  },
  {
   "cell_type": "code",
   "execution_count": null,
   "metadata": {},
   "outputs": [],
   "source": [
    "# H1 = {}\n",
    "for coeff in H:\n",
    "    if isinstance(H[coeff], HOp):\n",
    "        # convert single HOp to list of (single) HOp\n",
    "        H[coeff] = [H[coeff]]\n",
    "\n",
    "    matrices = []\n",
    "    for matrix in H[coeff]:\n",
    "        matrices.append(liouvillian(matrix()))\n",
    "    \n",
    "    # H1[coeff] = matrices\n",
    "\n",
    "\n"
   ]
  },
  {
   "cell_type": "code",
   "execution_count": 70,
   "metadata": {},
   "outputs": [
    {
     "data": {
      "text/plain": [
       "HOp.HOp"
      ]
     },
     "execution_count": 70,
     "metadata": {},
     "output_type": "execute_result"
    }
   ],
   "source": [
    "H1 = HOp(2, 1, sigmax())\n",
    "H2 = HOp(2, (1, sigmay()), (2, sigmax()))\n",
    "type(H2)"
   ]
  },
  {
   "cell_type": "code",
   "execution_count": 15,
   "metadata": {},
   "outputs": [
    {
     "data": {
      "text/plain": [
       "{<function __main__.f(t)>: <HOp.HOp at 0x7f7f390df520>}"
      ]
     },
     "execution_count": 15,
     "metadata": {},
     "output_type": "execute_result"
    }
   ],
   "source": [
    "# problem here as well? Should allow something better than manually input.\n",
    "def f(t): return t\n",
    "def g(t): return t**2\n",
    "\n",
    "def identity_func(t): return t\n",
    "def zero_func(t): return t\n",
    "\n",
    "# H = {f : [H1, HOp(2, 2, sigmay())]}\n",
    "H = {f: Hcm}\n",
    "H"
   ]
  },
  {
   "cell_type": "code",
   "execution_count": 16,
   "metadata": {},
   "outputs": [
    {
     "data": {
      "text/plain": [
       "{2: <HOp.HOp at 0x7f87a035b3d0>}"
      ]
     },
     "execution_count": 16,
     "metadata": {},
     "output_type": "execute_result"
    }
   ],
   "source": [
    "J = np.array([[1,2],[4,5],[7,8],[1,2]])\n",
    "H = {f : [H1, HOp(2, 2, sigmay()),H2], g : H2}\n",
    "\n",
    "# XX coupling\n",
    "# J[j-1,k-1]\n",
    "\n",
    "#sumJjkXjXk\n",
    "def XXcoupling(n,J):\n",
    "    H = {}\n",
    "    j = 1\n",
    "    while j<n:\n",
    "        k = j+1\n",
    "        while k<n+1:\n",
    "            # HXXjk = {J[j-1,k-1]:HOp(n, (j, sigmax()), (k, sigmax()))}\n",
    "            # index = ((n-1)+(n-j+1))*(j-1)/2 + k - j - 1\n",
    "            # H.append(HXXjk)\n",
    "            H[J[j-1,k-1]] = HOp(n, (j, sigmax()), (k, sigmax()))\n",
    "            k = k+1\n",
    "        j = j+1\n",
    "    \n",
    "    return H\n",
    "\n",
    "H = sigmax()Xcoupling(2,J)\n",
    "H\n",
    "# type(H)"
   ]
  },
  {
   "cell_type": "code",
   "execution_count": 95,
   "metadata": {},
   "outputs": [
    {
     "data": {
      "text/plain": [
       "(0.5, 5.551115123125783e-15)"
      ]
     },
     "execution_count": 95,
     "metadata": {},
     "output_type": "execute_result"
    }
   ],
   "source": [
    "scipy.integrate.quad(f, 0, 1)"
   ]
  },
  {
   "cell_type": "code",
   "execution_count": 17,
   "metadata": {},
   "outputs": [],
   "source": [
    "quantum_system = QSystem(H)\n",
    "\n",
    "rho0 = HOp(2, 1, sigmax())\n",
    "tlist = timegrid(0, 5, 0.5**7)\n",
    "\n",
    "density_matrices = quantum_system.lvn_solve(rho0, tlist)"
   ]
  },
  {
   "cell_type": "code",
   "execution_count": 15,
   "metadata": {},
   "outputs": [
    {
     "data": {
      "text/plain": [
       "{<function __main__.f(t)>: [<HOp.HOp at 0x7f879ef87c40>,\n",
       "  <HOp.HOp at 0x7f879ef9c7f0>,\n",
       "  <HOp.HOp at 0x7f879ef9e350>]}"
      ]
     },
     "execution_count": 15,
     "metadata": {},
     "output_type": "execute_result"
    }
   ],
   "source": [
    "H"
   ]
  },
  {
   "cell_type": "code",
   "execution_count": 124,
   "metadata": {},
   "outputs": [
    {
     "data": {
      "text/plain": [
       "641"
      ]
     },
     "execution_count": 124,
     "metadata": {},
     "output_type": "execute_result"
    }
   ],
   "source": [
    "len(density_matrices)"
   ]
  },
  {
   "cell_type": "markdown",
   "metadata": {},
   "source": [
    "The expectation value of specific operators on the system can then be plotted using the Frobenius inner product and matplotlib. For example, the x-component of the first spin."
   ]
  },
  {
   "cell_type": "code",
   "execution_count": 19,
   "metadata": {},
   "outputs": [
    {
     "name": "stderr",
     "output_type": "stream",
     "text": [
      "/Users/guannan/opt/anaconda3/envs/MagPy/lib/python3.10/site-packages/matplotlib/cbook/__init__.py:1369: ComplexWarning: Casting complex values to real discards the imaginary part\n",
      "  return np.asarray(x, float)\n"
     ]
    },
    {
     "data": {
      "image/png": "[encoded data removed]",
      "text/plain": [
       "<Figure size 640x480 with 1 Axes>"
      ]
     },
     "metadata": {},
     "output_type": "display_data"
    }
   ],
   "source": [
    "import matplotlib.pyplot as plt\n",
    "\n",
    "x_components = frobenius(density_matrices, kron(sigmax(), eye(2))) / 4\n",
    "\n",
    "plt.plot(tlist, x_components)\n",
    "plt.show()"
   ]
  }
 ],
 "metadata": {
  "kernelspec": {
   "display_name": "Python 3.10.6 ('MagPy')",
   "language": "python",
   "name": "python3"
  },
  "language_info": {
   "codemirror_mode": {
    "name": "ipython",
    "version": 3
   },
   "file_extension": ".py",
   "mimetype": "text/x-python",
   "name": "python",
   "nbconvert_exporter": "python",
   "pygments_lexer": "ipython3",
   "version": "3.10.6"
  },
  "orig_nbformat": 4,
  "vscode": {
   "interpreter": {
    "hash": "0a0a386176a905ebd613b9d30076183d240a04384985f33ad677c316ca5c3681"
   }
  }
 },
 "nbformat": 4,
 "nbformat_minor": 2
}
